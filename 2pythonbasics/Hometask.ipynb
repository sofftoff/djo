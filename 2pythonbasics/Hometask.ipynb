{
 "cells": [
  {
   "cell_type": "markdown",
   "metadata": {},
   "source": [
    "Задание 1. Даны 2 строки: long_phrase и short_phrase. Напишите код, который проверяет действительно ли длинная фраза long_phrase длиннее короткой short_phrase. И выводит True или False в зависимости от результата сравнения.\n"
   ]
  },
  {
   "cell_type": "code",
   "execution_count": null,
   "metadata": {},
   "outputs": [],
   "source": [
    "long_phrase = 'Насколько проще было бы писать программы, если бы не заказчики'\n",
    "short_phrase = '640Кб должно хватить для любых задач. Билл Гейтс (по легенде)'"
   ]
  },
  {
   "cell_type": "code",
   "execution_count": null,
   "metadata": {},
   "outputs": [],
   "source": [
    "len ('Насколько проще было бы писать программы, если бы не заказчики') > len ('640Кб должно хватить для любых задач. Билл Гейтс (по легенде)')"
   ]
  },
  {
   "cell_type": "code",
   "execution_count": null,
   "metadata": {},
   "outputs": [],
   "source": [
    "len(long_phrase) > len(short_phrase)"
   ]
  },
  {
   "cell_type": "markdown",
   "metadata": {},
   "source": [
    "Задание 2. Дано значение объема файла в байтах (в мегабайте 2^20 байт). Напишите перевод этого значения в мегабайты в формате: \"Объем файла равен 213.68Mb\"."
   ]
  },
  {
   "cell_type": "code",
   "execution_count": null,
   "metadata": {},
   "outputs": [],
   "source": [
    "print('Перевод байтов в мегабайты.')\n",
    "user_input = int(input('Байты: '))\n",
    "Mb = user_input/(2**20)\n",
    "print('Мегабайт: ')\n",
    "print(Mb)"
   ]
  },
  {
   "cell_type": "markdown",
   "metadata": {},
   "source": [
    "Задание 3. Разработать приложение для определения знака зодиака по дате рождения. Пример:"
   ]
  },
  {
   "cell_type": "code",
   "execution_count": null,
   "metadata": {},
   "outputs": [],
   "source": [
    "print('Кто вы по знаку Зодиака?')\n",
    "month = input('Введите месяц ')\n",
    "day = int(input('Введите число '))\n",
    "if (month == ('март' or 'Март') and 21<=day<=31) or (month == ('апрель' or 'Апрель') and 1<=day<=20):\n",
    "    print('Овен')\n",
    "elif (month == ('апрель' or 'Апрель') and 21<=day<=30) or (month == ('май' or 'Май') and 1<=day<=21):\n",
    "    print('Тельцы')\n",
    "elif (month == ('май' or 'Май') and 22<=day<=31) or (month == ('июнь' or 'Июнь') and 1<=day<=21):\n",
    "    print('Близнецы')\n",
    "elif (month == ('июнь' or 'Июнь') and 22<=day<=30) or (month == ('июль' or 'Июль') and 1<=day<=23):\n",
    "    print('Рак')\n",
    "elif (month == ('июль' or 'Июль') and 24<=day<=31) or (month == ('август' or 'Август') and 1<=day<=23):\n",
    "    print('Лев')\n",
    "elif (month == ('август' or 'Август') and 24<=day<=31) or (month == ('сентябрь' or 'Сентябрь') and 1<=day<=23):\n",
    "    print('Дева')\n",
    "elif (month == ('сентябрь' or 'Сентябрь') and 24<=day<=30) or (month == ('октябрь' or 'Октябрь') and 1<=day<=23):\n",
    "    print('Весы')\n",
    "elif (month == ('октябрь' or 'Октябрь') and 24<=day<=31) or (month == ('ноябрь' or 'Ноябрь') and 1<=day<=22):\n",
    "    print('Скорпион')\n",
    "elif (month == ('ноябрь' or 'Ноябрь') and 23<=day<=30) or (month == ('декабрь' or 'Декабрь') and 1<=day<=21):\n",
    "    print('Стрелец')\n",
    "elif (month == ('декабрь' or 'Декабрь') and 22<=day<=31) or (month == ('январь' or 'Январь') and 1<=day<=20):\n",
    "    print('Козерог')\n",
    "elif (month == ('январь' or 'Январь') and 21<=day<=31) or (month == ('февраль' or 'Февраль') and 1<=day<=19):\n",
    "    print('Водолей')\n",
    "elif (month == ('февраль' or 'Февраль') and 20<=day<=29) or (month == ('март' or 'Март') and 1<=day<=20):\n",
    "    print(Рыбы)\n",
    "else: \n",
    "    print('Проверьте правильность введенных данных')"
   ]
  },
  {
   "cell_type": "markdown",
   "metadata": {},
   "source": [
    "Задание 4."
   ]
  },
  {
   "cell_type": "code",
   "execution_count": null,
   "metadata": {},
   "outputs": [],
   "source": [
    "salary = int(input('Введите заработную плату за месяц'))\n",
    "mortgage = salary / 100 * int(input('Сколько процентов уходит на ипотеку: '))\n",
    "life = salary / 100 * int(input('Сколько процентов уходит на жизнь: '))\n",
    "premium = salary * int(input('Сколько раз в год приходит премия: '))\n",
    "pension = salary - mortgage - life + premium\n",
    "print('Нужно отложить на пенсию: ')\n",
    "print(pension)"
   ]
  }
 ],
 "metadata": {
  "kernelspec": {
   "display_name": "Python 3",
   "language": "python",
   "name": "python3"
  },
  "language_info": {
   "codemirror_mode": {
    "name": "ipython",
    "version": 3
   },
   "file_extension": ".py",
   "mimetype": "text/x-python",
   "name": "python",
   "nbconvert_exporter": "python",
   "pygments_lexer": "ipython3",
   "version": "3.7.6"
  }
 },
 "nbformat": 4,
 "nbformat_minor": 4
}
