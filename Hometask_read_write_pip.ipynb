{
 "cells": [
  {
   "cell_type": "code",
   "execution_count": null,
   "metadata": {},
   "outputs": [],
   "source": [
    "purchases = {}\n",
    "import json\n",
    "f = open('purchase_log.txt', 'r')\n",
    "for line in f:\n",
    "    line = line.strip()        \n",
    "    dict_ = json.loads(line)\n",
    "    purchases[dict_['user_id']] = dict_['category']\n",
    "f.close()"
   ]
  },
  {
   "cell_type": "code",
   "execution_count": null,
   "metadata": {},
   "outputs": [],
   "source": [
    "with open('visit_log.csv', 'r') as a:\n",
    "    with open('funnel.csv', 'w') as b:\n",
    "        for line in a:\n",
    "            linelist = line.strip().split(',')\n",
    "            if linelist[0] in purchases:\n",
    "                b.write(f'{line.strip()},{purchases[linelist[0]]} \\n')"
   ]
  }
 ],
 "metadata": {
  "kernelspec": {
   "display_name": "Python 3",
   "language": "python",
   "name": "python3"
  },
  "language_info": {
   "codemirror_mode": {
    "name": "ipython",
    "version": 3
   },
   "file_extension": ".py",
   "mimetype": "text/x-python",
   "name": "python",
   "nbconvert_exporter": "python",
   "pygments_lexer": "ipython3",
   "version": "3.7.6"
  }
 },
 "nbformat": 4,
 "nbformat_minor": 4
}
