{
 "cells": [
  {
   "cell_type": "markdown",
   "metadata": {},
   "source": [
    "Задание 1"
   ]
  },
  {
   "cell_type": "code",
   "execution_count": 29,
   "metadata": {},
   "outputs": [],
   "source": [
    "number = 'С065МК788'"
   ]
  },
  {
   "cell_type": "code",
   "execution_count": 30,
   "metadata": {},
   "outputs": [],
   "source": [
    "def check(num):\n",
    "    import re\n",
    "    num_pattern = r'(\\w{1})(\\d{3})(\\w{2})(\\d{2,3})'\n",
    "    if re.findall(num_pattern, num):\n",
    "        new_num = re.findall(r'(?:\\w)(\\d{3})(?:\\w{2})(\\d{2,3})', num)\n",
    "        print(new_num)\n",
    "    else:\n",
    "        print('неправильный номер')"
   ]
  },
  {
   "cell_type": "code",
   "execution_count": 31,
   "metadata": {},
   "outputs": [
    {
     "name": "stdout",
     "output_type": "stream",
     "text": [
      "[('065', '788')]\n"
     ]
    }
   ],
   "source": [
    "check(number)"
   ]
  },
  {
   "cell_type": "markdown",
   "metadata": {},
   "source": [
    "Задание 2."
   ]
  },
  {
   "cell_type": "code",
   "execution_count": 72,
   "metadata": {},
   "outputs": [],
   "source": [
    "email = r'((?:\\b(?!\\.))(?!.*\\.\\..*)(?:[a-zA-Z0-9\\.\\-\\+_\\-]+?)?[a-zA-Z0-9]+?|\\\"\\s\\\"|\\\"[a-zA-Z0-9]+?\\.\\.[a-zA-z0-9]+?\\\")@([a-zA-Z0-9]+(?:\\-[a-zA-Z0-9])?\\.?[a-zA-Z0-9]+(?:\\.[a-zA-Z]+)?)'"
   ]
  },
  {
   "cell_type": "markdown",
   "metadata": {},
   "source": [
    "Задание 3."
   ]
  },
  {
   "cell_type": "code",
   "execution_count": 78,
   "metadata": {},
   "outputs": [],
   "source": [
    "test = \"Что такое регулярные регулярные выражения и как их их использовать? Говоря простым языком языком, регулярное выражение\""
   ]
  },
  {
   "cell_type": "code",
   "execution_count": 81,
   "metadata": {},
   "outputs": [
    {
     "data": {
      "text/plain": [
       "'Что такое регулярные выражения и как их использовать? Говоря простым языком, регулярное выражение'"
      ]
     },
     "execution_count": 81,
     "metadata": {},
     "output_type": "execute_result"
    }
   ],
   "source": [
    "re.sub(r'\\b([^\\W\\d_]+)(\\s+\\1)+\\b', r'\\1', test)"
   ]
  },
  {
   "cell_type": "markdown",
   "metadata": {},
   "source": [
    "Задание 4."
   ]
  },
  {
   "cell_type": "code",
   "execution_count": 2,
   "metadata": {},
   "outputs": [],
   "source": [
    "                                   "
   ]
  },
  {
   "cell_type": "code",
   "execution_count": 18,
   "metadata": {},
   "outputs": [],
   "source": [
    "number = '89555555555;'"
   ]
  },
  {
   "cell_type": "code",
   "execution_count": 19,
   "metadata": {},
   "outputs": [],
   "source": [
    "def validate(num):\n",
    "    import re\n",
    "    validator = r'^(\\+7|8|7)[\\s(+]{0,2}(9\\d{2})[-\\s+)]{0,2}(\\d{3})[-\\s+]{0,1}(\\d{2})[-\\s+]{0,1}(\\d{2})[;\\s.]{0,1}'\n",
    "    if re.findall(validator, num):\n",
    "        number_1 = re.sub(validator, r'+7(\\2)-\\3-\\4-\\5', num)\n",
    "    print(number_1)"
   ]
  },
  {
   "cell_type": "code",
   "execution_count": 20,
   "metadata": {},
   "outputs": [
    {
     "name": "stdout",
     "output_type": "stream",
     "text": [
      "+7(955)-555-55-55\n"
     ]
    }
   ],
   "source": [
    "validate(number)"
   ]
  },
  {
   "cell_type": "code",
   "execution_count": null,
   "metadata": {},
   "outputs": [],
   "source": []
  }
 ],
 "metadata": {
  "kernelspec": {
   "display_name": "Python 3",
   "language": "python",
   "name": "python3"
  },
  "language_info": {
   "codemirror_mode": {
    "name": "ipython",
    "version": 3
   },
   "file_extension": ".py",
   "mimetype": "text/x-python",
   "name": "python",
   "nbconvert_exporter": "python",
   "pygments_lexer": "ipython3",
   "version": "3.7.6"
  }
 },
 "nbformat": 4,
 "nbformat_minor": 4
}
