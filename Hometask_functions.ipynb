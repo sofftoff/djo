{
 "cells": [
  {
   "cell_type": "markdown",
   "metadata": {},
   "source": [
    "Необходимо реализовать пользовательские команды (внимание! это не название функций, которые должны быть выразительными, а команды, которые вводит пользователь, чтобы получить необходимый результат):\n",
    "\n",
    " p – people – команда, которая спросит номер документа и выведет имя человека, которому он принадлежит;\n",
    " \n",
    " s – shelf – команда, которая спросит номер документа и выведет номер полки, на которой он находится\n",
    "Правильно обработайте ситуации, когда пользователь будет вводить несуществующий документ.\n",
    "\n",
    " l – list – команда, которая выведет список всех документов в формате: passport \"2207 876234\" \"Василий Гупкин\"\n",
    " \n",
    " as – add shelf – команда, которая спросит номер новой полки и добавит ее в перечень. Предусмотрите случай, когда пользователь добавляет полку, которая уже существует.\n",
    " \n",
    " d – delete – команда, которая спросит номер документа и удалит его из каталога и из перечня полок. Предусмотрите сценарий, когда пользователь вводит несуществующий документ;\n",
    " \n",
    " m – move – команда, которая спросит номер документа и целевую полку и переместит его с текущей полки на целевую. Корректно обработайте кейсы, когда пользователь пытается переместить несуществующий документ или переместить документ на несуществующую полку;\n",
    " \n",
    " a – add – команда, которая добавит новый документ в каталог и в перечень полок, спросив его номер, тип, имя владельца и номер полки, на котором он будет храниться. Корректно обработайте ситуацию, когда пользователь будет пытаться добавить документ на несуществующую полку."
   ]
  },
  {
   "cell_type": "code",
   "execution_count": null,
   "metadata": {},
   "outputs": [],
   "source": [
    "documents = [\n",
    "    {'type': 'passport', 'number': '2207 876234', 'name': 'Василий Гупкин'},\n",
    "    {'type': 'invoice', 'number': '11-2', 'name': 'Геннадий Покемонов'},\n",
    "    {'type': 'insurance', 'number': '10006', 'name': 'Аристарх Павлов'}\n",
    "]\n",
    "\n",
    "directories = {\n",
    "    '1': ['2207 876234', '11-2'],\n",
    "    '2': ['10006'],\n",
    "    '3': []\n",
    "}"
   ]
  },
  {
   "cell_type": "code",
   "execution_count": null,
   "metadata": {},
   "outputs": [],
   "source": [
    "#человек по номеру документа DONE\n",
    "def p():\n",
    "        user_input = input('Введите номер документа ')\n",
    "        for person in documents:\n",
    "            if user_input in person['number']:\n",
    "                print(person['name'])   "
   ]
  },
  {
   "cell_type": "code",
   "execution_count": null,
   "metadata": {},
   "outputs": [],
   "source": [
    "#список всех документов DONE\n",
    "def l():\n",
    "    for person in documents:\n",
    "        print(list(person.values()))"
   ]
  },
  {
   "cell_type": "code",
   "execution_count": null,
   "metadata": {},
   "outputs": [],
   "source": [
    "#номер полки по номеру документа DONE\n",
    "def s():\n",
    "    user_input = input('Введите номер документа ')\n",
    "    doc_on_shelf = False\n",
    "    for key, value in directories.items():\n",
    "        if user_input in value:\n",
    "            print(key)"
   ]
  },
  {
   "cell_type": "code",
   "execution_count": null,
   "metadata": {},
   "outputs": [],
   "source": [
    "#удалить документ из каталога и перечня полок DONE\n",
    "def d():\n",
    "    user_input = input('Введите номер документа ')\n",
    "    for person in documents:\n",
    "        if user_input == person['number']:\n",
    "            documents.remove(person)\n",
    "    for key, value in directories.items():\n",
    "        if user_input in value:\n",
    "            value.remove(user_input)\n",
    "    return documents, directories"
   ]
  },
  {
   "cell_type": "code",
   "execution_count": null,
   "metadata": {},
   "outputs": [],
   "source": [
    "# переместить документ на указанную полку DONE\n",
    "def m():\n",
    "    user_input1 = input('Введите номер документа ')\n",
    "    user_input2 = input('Введите номер полки ')\n",
    "    for key, value in directories.items():\n",
    "        if user_input1 in value:\n",
    "            value.remove(user_input1)\n",
    "        if user_input2 in key:\n",
    "            value.append(user_input1)\n",
    "    return documents, directories"
   ]
  },
  {
   "cell_type": "code",
   "execution_count": null,
   "metadata": {},
   "outputs": [],
   "source": [
    "# указать тип документа, номер, имя и полку, на которой будет храниться \n",
    "def a():\n",
    "    user_input0 = input('Введите тип документа ')\n",
    "    user_input1 = input('Введите номер документа ')\n",
    "    user_input2 = input('Введите имя ')\n",
    "    user_input3 = input('Введите номер полки ')\n",
    "    person = {'type': user_input0, 'number': user_input1, 'name': user_input2}\n",
    "    documents.append(person)\n",
    "    for key, value in directories.items():\n",
    "        if user_input3 in key:\n",
    "            value.append(user_input1)\n",
    "    return documents, directories"
   ]
  },
  {
   "cell_type": "code",
   "execution_count": null,
   "metadata": {},
   "outputs": [],
   "source": [
    "#добавить новую полку\n",
    "def adse():\n",
    "    user_input = input('Номер полки ')\n",
    "    directories.setdefault(user_input)\n",
    "    return directories"
   ]
  },
  {
   "cell_type": "code",
   "execution_count": null,
   "metadata": {},
   "outputs": [],
   "source": [
    "#пользовательское\n",
    "def main():\n",
    "    while True:\n",
    "        user_input = input('Введите команду ')\n",
    "        if user_input == 'p':\n",
    "            p()\n",
    "        elif user_input == 's':\n",
    "            s()\n",
    "        elif user_input == 'l':\n",
    "            l()\n",
    "        elif user_input == 'a':\n",
    "            a()\n",
    "        elif user_input == 'adse':\n",
    "            adse()\n",
    "        elif user_input == 'd':\n",
    "            d()\n",
    "        elif user_input == 'm':\n",
    "            m()\n",
    "        elif user_input == 'q':\n",
    "            break"
   ]
  },
  {
   "cell_type": "code",
   "execution_count": null,
   "metadata": {},
   "outputs": [],
   "source": [
    "main()"
   ]
  }
 ],
 "metadata": {
  "kernelspec": {
   "display_name": "Python 3",
   "language": "python",
   "name": "python3"
  },
  "language_info": {
   "codemirror_mode": {
    "name": "ipython",
    "version": 3
   },
   "file_extension": ".py",
   "mimetype": "text/x-python",
   "name": "python",
   "nbconvert_exporter": "python",
   "pygments_lexer": "ipython3",
   "version": "3.7.6"
  }
 },
 "nbformat": 4,
 "nbformat_minor": 4
}
